{
 "cells": [
  {
   "cell_type": "markdown",
   "metadata": {},
   "source": [
    "# RANSAC算法的核心思想\n",
    "它的核心思想是不断随机采样少量点去拟合一个模型。然后用其他数据点判断这个模型是否足够好。判断这个模型是否足够好的标准就是有多少个点满足这个模型。如果这个模型足够好的话那么用满足这个模型的那些点去重新拟合一个新的模型。（不满足条件的那些点就扔了。这个和最小二乘法不同，最小二乘法是把所有点都放一起取平均）\n",
    "\n",
    "基本概念：每次最少采样点数m（一条直线最少需要m=2个点），判断其他数据点是否满足模型时候用的最大容忍误差e（当代入到m个点所拟合的那个模型中发现误差大于e就认为是不合格的点outliers），足够好的模型的最少合格点数n（如果满足这个模型的合格点大于等于n就认为这个模型足够好了终止迭代），迭代次数K(如果一直找不到足够好的模型则不断迭代采样直到迭代次数截止为止)。\n",
    "\n",
    "一般：$n-m>5，K=2p^{(-m)}$,其中p是指随机的一个数据点落在拟合模型范围内的概率（这个概率是由最大容忍误差决定的），当然K你随便取也可以。\n",
    "下面是Python代码实践用RANSAC去除离群点然后拟合一条曲线："
   ]
  },
  {
   "cell_type": "code",
   "execution_count": 13,
   "metadata": {},
   "outputs": [
    {
     "data": {
      "image/png": "[encoded data removed]",
      "text/plain": [
       "<Figure size 432x288 with 1 Axes>"
      ]
     },
     "metadata": {
      "needs_background": "light"
     },
     "output_type": "display_data"
    }
   ],
   "source": [
    "import numpy as np\n",
    "import matplotlib.pyplot as plt\n",
    "\n",
    "def generate_data():\n",
    "    x = np.linspace(0,5,100)\n",
    "    y = 2*x+np.random.rand(x.shape[0])\n",
    "    # 制造离群点\n",
    "    outlier_num = 20\n",
    "    for i in range(outlier_num):\n",
    "        y[np.random.randint(100)] += 10*(np.random.rand()-0.5)\n",
    "    return x,y\n",
    "x,y  = generate_data()\n",
    "plt.scatter(x,y)\n",
    "plt.show()"
   ]
  },
  {
   "cell_type": "code",
   "execution_count": 15,
   "metadata": {},
   "outputs": [
    {
     "data": {
      "image/png": "[encoded data removed]",
      "text/plain": [
       "<Figure size 432x288 with 1 Axes>"
      ]
     },
     "metadata": {
      "needs_background": "light"
     },
     "output_type": "display_data"
    }
   ],
   "source": [
    "def f_two_point_line(x1,y1,x2,y2):\n",
    "    '''\n",
    "    两点法确立一个直线，返回所拟合的直线斜率和截距\n",
    "    '''\n",
    "    k = (y2-y1)/(x2-x1)\n",
    "    b = y1 - k*x1\n",
    "    return k,b\n",
    "    \n",
    "\n",
    "def RANSAC_filte_outlier(x,y):\n",
    "    '''\n",
    "    删除离群点\n",
    "    '''\n",
    "    m = 2 #确定一条直线最少每次需要取2个点\n",
    "    e = 0.5 # 只要某个点离所拟合的直线距离小于0.5那么认为不是离群点\n",
    "    n = 20 # 只要某个拟合的直线能够让20个点足够接近它那么认为当前直线是比较理想的直线\n",
    "    K = int(2 * (1/5)**(-m)) # 最大迭代次数，这个可以随便设置的\n",
    "    for _ in range(K):\n",
    "        # 1. 随机选m个点来拟合一条直线这里是两个点所以用两点法确定一条直线\n",
    "        p1_index = np.random.randint(x.shape[0])\n",
    "        p2_index = np.random.randint(x.shape[0])\n",
    "        \n",
    "        # 两点法确定一条直线\n",
    "        p1_x = x[p1_index]\n",
    "        p1_y = y[p1_index]\n",
    "        p2_x = x[p2_index]\n",
    "        p2_y = y[p2_index]\n",
    "        \n",
    "        k,b = f_two_point_line(p1_x,p1_y,p2_x,p2_y)\n",
    "        y_predict = k*x + b\n",
    "        inliner_bool = (np.abs(y_predict-y)<0.5)\n",
    "        if np.sum(inliner_bool)>=20:\n",
    "            return x[inliner_bool],y[inliner_bool]\n",
    "        \n",
    "    return NULL\n",
    "x_filted,y_filted = RANSAC_filte_outlier(x,y)\n",
    "plt.scatter(x_filted,y_filted)\n",
    "plt.show()"
   ]
  },
  {
   "cell_type": "markdown",
   "metadata": {},
   "source": [
    "可以看到上图许多噪声点已经被去除。拟合这条曲线可以用最小二乘法求解。"
   ]
  }
 ],
 "metadata": {
  "kernelspec": {
   "display_name": "Python 3",
   "language": "python",
   "name": "python3"
  },
  "language_info": {
   "codemirror_mode": {
    "name": "ipython",
    "version": 3
   },
   "file_extension": ".py",
   "mimetype": "text/x-python",
   "name": "python",
   "nbconvert_exporter": "python",
   "pygments_lexer": "ipython3",
   "version": "3.7.0"
  }
 },
 "nbformat": 4,
 "nbformat_minor": 2
}
