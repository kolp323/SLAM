{
 "cells": [
  {
   "cell_type": "markdown",
   "id": "a38361a5",
   "metadata": {},
   "source": [
    "## 带标记的目标实时跟踪实践  \n",
    "原理：提取视频中的一帧图片，然后对其进行图像二值化,然后找图中所有的黑色连通域和白色连通域，最终计算这些黑色连通域和白色连通域的中心点。由于是黑白相间的环，所以那些两种中心点非常接近的位置则是圆环所在位置。最终实现了对视频中的白色环进行了实时跟踪。"
   ]
  },
  {
   "cell_type": "code",
   "execution_count": 25,
   "id": "ade62b7f",
   "metadata": {},
   "outputs": [],
   "source": [
    "import cv2\n",
    "import numpy as np\n",
    "import matplotlib.pyplot as plt\n",
    "\n",
    "from IPython.display import clear_output\n",
    "import time"
   ]
  },
  {
   "cell_type": "markdown",
   "id": "1b9c6ce4",
   "metadata": {},
   "source": [
    "##### 读取视频流"
   ]
  },
  {
   "cell_type": "code",
   "execution_count": 26,
   "id": "63d0368d",
   "metadata": {},
   "outputs": [
    {
     "ename": "KeyboardInterrupt",
     "evalue": "",
     "output_type": "error",
     "traceback": [
      "\u001b[1;31m---------------------------------------------------------------------------\u001b[0m",
      "\u001b[1;31mKeyboardInterrupt\u001b[0m                         Traceback (most recent call last)",
      "Cell \u001b[1;32mIn[26], line 53\u001b[0m\n\u001b[0;32m     51\u001b[0m \u001b[38;5;66;03m# plt单元格展示\u001b[39;00m\n\u001b[0;32m     52\u001b[0m plt\u001b[38;5;241m.\u001b[39mimshow(frame)\n\u001b[1;32m---> 53\u001b[0m \u001b[43mplt\u001b[49m\u001b[38;5;241;43m.\u001b[39;49m\u001b[43mshow\u001b[49m\u001b[43m(\u001b[49m\u001b[43m)\u001b[49m\n\u001b[0;32m     54\u001b[0m time\u001b[38;5;241m.\u001b[39msleep(\u001b[38;5;241m0.05\u001b[39m)\n\u001b[0;32m     55\u001b[0m clear_output(wait\u001b[38;5;241m=\u001b[39m\u001b[38;5;28;01mTrue\u001b[39;00m) \u001b[38;5;66;03m# 清除输出，避免输出过多\u001b[39;00m\n",
      "File \u001b[1;32me:\\Anaconda3\\envs\\cv\\lib\\site-packages\\matplotlib\\pyplot.py:612\u001b[0m, in \u001b[0;36mshow\u001b[1;34m(*args, **kwargs)\u001b[0m\n\u001b[0;32m    568\u001b[0m \u001b[38;5;250m\u001b[39m\u001b[38;5;124;03m\"\"\"\u001b[39;00m\n\u001b[0;32m    569\u001b[0m \u001b[38;5;124;03mDisplay all open figures.\u001b[39;00m\n\u001b[0;32m    570\u001b[0m \n\u001b[1;32m   (...)\u001b[0m\n\u001b[0;32m    609\u001b[0m \u001b[38;5;124;03mexplicitly there.\u001b[39;00m\n\u001b[0;32m    610\u001b[0m \u001b[38;5;124;03m\"\"\"\u001b[39;00m\n\u001b[0;32m    611\u001b[0m _warn_if_gui_out_of_main_thread()\n\u001b[1;32m--> 612\u001b[0m \u001b[38;5;28;01mreturn\u001b[39;00m _get_backend_mod()\u001b[38;5;241m.\u001b[39mshow(\u001b[38;5;241m*\u001b[39margs, \u001b[38;5;241m*\u001b[39m\u001b[38;5;241m*\u001b[39mkwargs)\n",
      "File \u001b[1;32me:\\Anaconda3\\envs\\cv\\lib\\site-packages\\matplotlib_inline\\backend_inline.py:90\u001b[0m, in \u001b[0;36mshow\u001b[1;34m(close, block)\u001b[0m\n\u001b[0;32m     88\u001b[0m \u001b[38;5;28;01mtry\u001b[39;00m:\n\u001b[0;32m     89\u001b[0m     \u001b[38;5;28;01mfor\u001b[39;00m figure_manager \u001b[38;5;129;01min\u001b[39;00m Gcf\u001b[38;5;241m.\u001b[39mget_all_fig_managers():\n\u001b[1;32m---> 90\u001b[0m         \u001b[43mdisplay\u001b[49m\u001b[43m(\u001b[49m\n\u001b[0;32m     91\u001b[0m \u001b[43m            \u001b[49m\u001b[43mfigure_manager\u001b[49m\u001b[38;5;241;43m.\u001b[39;49m\u001b[43mcanvas\u001b[49m\u001b[38;5;241;43m.\u001b[39;49m\u001b[43mfigure\u001b[49m\u001b[43m,\u001b[49m\n\u001b[0;32m     92\u001b[0m \u001b[43m            \u001b[49m\u001b[43mmetadata\u001b[49m\u001b[38;5;241;43m=\u001b[39;49m\u001b[43m_fetch_figure_metadata\u001b[49m\u001b[43m(\u001b[49m\u001b[43mfigure_manager\u001b[49m\u001b[38;5;241;43m.\u001b[39;49m\u001b[43mcanvas\u001b[49m\u001b[38;5;241;43m.\u001b[39;49m\u001b[43mfigure\u001b[49m\u001b[43m)\u001b[49m\n\u001b[0;32m     93\u001b[0m \u001b[43m        \u001b[49m\u001b[43m)\u001b[49m\n\u001b[0;32m     94\u001b[0m \u001b[38;5;28;01mfinally\u001b[39;00m:\n\u001b[0;32m     95\u001b[0m     show\u001b[38;5;241m.\u001b[39m_to_draw \u001b[38;5;241m=\u001b[39m []\n",
      "File \u001b[1;32me:\\Anaconda3\\envs\\cv\\lib\\site-packages\\IPython\\core\\display_functions.py:305\u001b[0m, in \u001b[0;36mdisplay\u001b[1;34m(include, exclude, metadata, transient, display_id, raw, clear, *objs, **kwargs)\u001b[0m\n\u001b[0;32m    302\u001b[0m         \u001b[38;5;28;01mif\u001b[39;00m metadata:\n\u001b[0;32m    303\u001b[0m             \u001b[38;5;66;03m# kwarg-specified metadata gets precedence\u001b[39;00m\n\u001b[0;32m    304\u001b[0m             _merge(md_dict, metadata)\n\u001b[1;32m--> 305\u001b[0m         publish_display_data(data\u001b[38;5;241m=\u001b[39mformat_dict, metadata\u001b[38;5;241m=\u001b[39mmd_dict, \u001b[38;5;241m*\u001b[39m\u001b[38;5;241m*\u001b[39mkwargs)\n\u001b[0;32m    306\u001b[0m \u001b[38;5;28;01mif\u001b[39;00m display_id:\n\u001b[0;32m    307\u001b[0m     \u001b[38;5;28;01mreturn\u001b[39;00m DisplayHandle(display_id)\n",
      "File \u001b[1;32me:\\Anaconda3\\envs\\cv\\lib\\site-packages\\IPython\\core\\display_functions.py:93\u001b[0m, in \u001b[0;36mpublish_display_data\u001b[1;34m(data, metadata, source, transient, **kwargs)\u001b[0m\n\u001b[0;32m     90\u001b[0m \u001b[38;5;28;01mif\u001b[39;00m transient:\n\u001b[0;32m     91\u001b[0m     kwargs[\u001b[38;5;124m'\u001b[39m\u001b[38;5;124mtransient\u001b[39m\u001b[38;5;124m'\u001b[39m] \u001b[38;5;241m=\u001b[39m transient\n\u001b[1;32m---> 93\u001b[0m display_pub\u001b[38;5;241m.\u001b[39mpublish(\n\u001b[0;32m     94\u001b[0m     data\u001b[38;5;241m=\u001b[39mdata,\n\u001b[0;32m     95\u001b[0m     metadata\u001b[38;5;241m=\u001b[39mmetadata,\n\u001b[0;32m     96\u001b[0m     \u001b[38;5;241m*\u001b[39m\u001b[38;5;241m*\u001b[39mkwargs\n\u001b[0;32m     97\u001b[0m )\n",
      "File \u001b[1;32me:\\Anaconda3\\envs\\cv\\lib\\site-packages\\ipykernel\\zmqshell.py:130\u001b[0m, in \u001b[0;36mZMQDisplayPublisher.publish\u001b[1;34m(self, data, metadata, transient, update)\u001b[0m\n\u001b[0;32m    127\u001b[0m     \u001b[38;5;28;01mif\u001b[39;00m msg \u001b[38;5;129;01mis\u001b[39;00m \u001b[38;5;28;01mNone\u001b[39;00m:\n\u001b[0;32m    128\u001b[0m         \u001b[38;5;28;01mreturn\u001b[39;00m  \u001b[38;5;66;03m# type:ignore[unreachable]\u001b[39;00m\n\u001b[1;32m--> 130\u001b[0m \u001b[38;5;28;43mself\u001b[39;49m\u001b[38;5;241;43m.\u001b[39;49m\u001b[43msession\u001b[49m\u001b[38;5;241;43m.\u001b[39;49m\u001b[43msend\u001b[49m\u001b[43m(\u001b[49m\n\u001b[0;32m    131\u001b[0m \u001b[43m    \u001b[49m\u001b[38;5;28;43mself\u001b[39;49m\u001b[38;5;241;43m.\u001b[39;49m\u001b[43mpub_socket\u001b[49m\u001b[43m,\u001b[49m\n\u001b[0;32m    132\u001b[0m \u001b[43m    \u001b[49m\u001b[43mmsg\u001b[49m\u001b[43m,\u001b[49m\n\u001b[0;32m    133\u001b[0m \u001b[43m    \u001b[49m\u001b[43mident\u001b[49m\u001b[38;5;241;43m=\u001b[39;49m\u001b[38;5;28;43mself\u001b[39;49m\u001b[38;5;241;43m.\u001b[39;49m\u001b[43mtopic\u001b[49m\u001b[43m,\u001b[49m\n\u001b[0;32m    134\u001b[0m \u001b[43m\u001b[49m\u001b[43m)\u001b[49m\n",
      "File \u001b[1;32me:\\Anaconda3\\envs\\cv\\lib\\site-packages\\jupyter_client\\session.py:852\u001b[0m, in \u001b[0;36mSession.send\u001b[1;34m(self, stream, msg_or_type, content, parent, ident, buffers, track, header, metadata)\u001b[0m\n\u001b[0;32m    850\u001b[0m \u001b[38;5;28;01mif\u001b[39;00m \u001b[38;5;28mself\u001b[39m\u001b[38;5;241m.\u001b[39madapt_version:\n\u001b[0;32m    851\u001b[0m     msg \u001b[38;5;241m=\u001b[39m adapt(msg, \u001b[38;5;28mself\u001b[39m\u001b[38;5;241m.\u001b[39madapt_version)\n\u001b[1;32m--> 852\u001b[0m to_send \u001b[38;5;241m=\u001b[39m \u001b[38;5;28;43mself\u001b[39;49m\u001b[38;5;241;43m.\u001b[39;49m\u001b[43mserialize\u001b[49m\u001b[43m(\u001b[49m\u001b[43mmsg\u001b[49m\u001b[43m,\u001b[49m\u001b[43m \u001b[49m\u001b[43mident\u001b[49m\u001b[43m)\u001b[49m\n\u001b[0;32m    853\u001b[0m to_send\u001b[38;5;241m.\u001b[39mextend(buffers)\n\u001b[0;32m    854\u001b[0m longest \u001b[38;5;241m=\u001b[39m \u001b[38;5;28mmax\u001b[39m([\u001b[38;5;28mlen\u001b[39m(s) \u001b[38;5;28;01mfor\u001b[39;00m s \u001b[38;5;129;01min\u001b[39;00m to_send])\n",
      "File \u001b[1;32me:\\Anaconda3\\envs\\cv\\lib\\site-packages\\jupyter_client\\session.py:747\u001b[0m, in \u001b[0;36mSession.serialize\u001b[1;34m(self, msg, ident)\u001b[0m\n\u001b[0;32m    744\u001b[0m     to_send\u001b[38;5;241m.\u001b[39mappend(ident)\n\u001b[0;32m    745\u001b[0m to_send\u001b[38;5;241m.\u001b[39mappend(DELIM)\n\u001b[1;32m--> 747\u001b[0m signature \u001b[38;5;241m=\u001b[39m \u001b[38;5;28;43mself\u001b[39;49m\u001b[38;5;241;43m.\u001b[39;49m\u001b[43msign\u001b[49m\u001b[43m(\u001b[49m\u001b[43mreal_message\u001b[49m\u001b[43m)\u001b[49m\n\u001b[0;32m    748\u001b[0m to_send\u001b[38;5;241m.\u001b[39mappend(signature)\n\u001b[0;32m    750\u001b[0m to_send\u001b[38;5;241m.\u001b[39mextend(real_message)\n",
      "File \u001b[1;32me:\\Anaconda3\\envs\\cv\\lib\\site-packages\\jupyter_client\\session.py:687\u001b[0m, in \u001b[0;36mSession.sign\u001b[1;34m(self, msg_list)\u001b[0m\n\u001b[0;32m    685\u001b[0m h \u001b[38;5;241m=\u001b[39m \u001b[38;5;28mself\u001b[39m\u001b[38;5;241m.\u001b[39mauth\u001b[38;5;241m.\u001b[39mcopy()\n\u001b[0;32m    686\u001b[0m \u001b[38;5;28;01mfor\u001b[39;00m m \u001b[38;5;129;01min\u001b[39;00m msg_list:\n\u001b[1;32m--> 687\u001b[0m     \u001b[43mh\u001b[49m\u001b[38;5;241;43m.\u001b[39;49m\u001b[43mupdate\u001b[49m\u001b[43m(\u001b[49m\u001b[43mm\u001b[49m\u001b[43m)\u001b[49m\n\u001b[0;32m    688\u001b[0m \u001b[38;5;28;01mreturn\u001b[39;00m h\u001b[38;5;241m.\u001b[39mhexdigest()\u001b[38;5;241m.\u001b[39mencode()\n",
      "File \u001b[1;32me:\\Anaconda3\\envs\\cv\\lib\\hmac.py:113\u001b[0m, in \u001b[0;36mHMAC.update\u001b[1;34m(self, msg)\u001b[0m\n\u001b[0;32m    111\u001b[0m \u001b[38;5;28;01mdef\u001b[39;00m\u001b[38;5;250m \u001b[39m\u001b[38;5;21mupdate\u001b[39m(\u001b[38;5;28mself\u001b[39m, msg):\n\u001b[0;32m    112\u001b[0m \u001b[38;5;250m    \u001b[39m\u001b[38;5;124;03m\"\"\"Feed data from msg into this hashing object.\"\"\"\u001b[39;00m\n\u001b[1;32m--> 113\u001b[0m     \u001b[38;5;28;43mself\u001b[39;49m\u001b[38;5;241;43m.\u001b[39;49m\u001b[43m_inner\u001b[49m\u001b[38;5;241;43m.\u001b[39;49m\u001b[43mupdate\u001b[49m\u001b[43m(\u001b[49m\u001b[43mmsg\u001b[49m\u001b[43m)\u001b[49m\n",
      "\u001b[1;31mKeyboardInterrupt\u001b[0m: "
     ]
    }
   ],
   "source": [
    "videoCap = cv2.VideoCapture('./oneCCC.wmv')\n",
    "if videoCap.isOpened() == False:\n",
    "    print(\"Error opening video stream or file\")\n",
    "\n",
    "while videoCap.isOpened():\n",
    "    ret, frame = videoCap.read()\n",
    "    if ret == False:\n",
    "        print('video end')\n",
    "        break\n",
    "\n",
    "    frame = cv2.cvtColor(frame, cv2.COLOR_BGR2GRAY) # 转为灰度图\n",
    "    frame = cv2.threshold(frame, 0, 255, cv2.THRESH_BINARY_INV+cv2.THRESH_OTSU)[1] # 二值化\n",
    "    ret, labels = cv2.connectedComponents(frame) # 求连通域\n",
    "\n",
    "    center1 = np.zeros((ret, 2)).astype(np.int32) # 黑色连通域中心点\n",
    "\n",
    "    # 估计各个黑色连通域的中心点\n",
    "    for i in range(ret):\n",
    "        row, col = np.where(labels == i)\n",
    "        center1[i] = np.mean(row), np.mean(col)\n",
    "    frame = cv2.bitwise_not(frame) # 反色\n",
    "    ret, labels = cv2.connectedComponents(frame) # 求连通域\n",
    "\n",
    "    center2 = np.zeros((ret, 2)).astype(np.int32) # 白色连通域中心点\n",
    "    for i in range(ret):\n",
    "        row, col = np.where(labels == i)\n",
    "        center2[i] = np.mean(row), np.mean(col)\n",
    "\n",
    "\n",
    "    index = 0\n",
    "    value = np.inf\n",
    "    # 找到黑色连通域和白色连通域中心点距离最近的两个点\n",
    "    for i in range(ret):\n",
    "        # center1(ret+1, 2), center2[i](1, 2)\n",
    "        mvalue = np.sum(\n",
    "            np.abs(center1 - center2[i]), axis=1\n",
    "        ).min() # sum是计算曼哈顿距离\n",
    "        if mvalue < value:\n",
    "            value = mvalue\n",
    "            index = i\n",
    "    # 绘制出目标框\n",
    "    y, x = np.where(labels == index)\n",
    "    cv2.rectangle(\n",
    "        frame, \n",
    "        (np.min(x), np.min(y)), \n",
    "        (np.max(x), np.max(y)), \n",
    "        165,   # 灰度图像颜色格式\n",
    "        3\n",
    "    )\n",
    "\n",
    "    # plt单元格展示\n",
    "    plt.imshow(frame)\n",
    "    plt.show()\n",
    "    time.sleep(0.05)\n",
    "    clear_output(wait=True) # 清除输出，避免输出过多\n",
    "\n",
    "    ## cv2窗口展示\n",
    "    # cv2.imshow('track circle', frame)\n",
    "    # cv2.waitKey(0)\n",
    "    # if cv2.waitKey(25) & 0xFF == ord('q'): #按下q键就退出\n",
    "    #     break\n",
    "\n",
    "videoCap.release() # 释放视频捕获对象所占用的资源\n",
    "cv2.destroyAllWindows() # 关闭所有OpenCV窗口"
   ]
  },
  {
   "cell_type": "code",
   "execution_count": null,
   "id": "46798bce",
   "metadata": {},
   "outputs": [],
   "source": []
  }
 ],
 "metadata": {
  "kernelspec": {
   "display_name": "cv",
   "language": "python",
   "name": "python3"
  },
  "language_info": {
   "codemirror_mode": {
    "name": "ipython",
    "version": 3
   },
   "file_extension": ".py",
   "mimetype": "text/x-python",
   "name": "python",
   "nbconvert_exporter": "python",
   "pygments_lexer": "ipython3",
   "version": "3.9.23"
  }
 },
 "nbformat": 4,
 "nbformat_minor": 5
}
